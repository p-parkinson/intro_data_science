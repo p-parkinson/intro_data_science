{
 "cells": [
  {
   "cell_type": "markdown",
   "metadata": {},
   "source": [
    "<div class=\"container-fluid\">\n",
    "    <div class=\"row\">\n",
    "        <div class=\"col-md-8\" align=\"center\">\n",
    "            <h1>PHYS 10792: Introduction to Data Science</h1>\n",
    "            <!--<h3>2019-2020 Academic Year</h3><br>-->\n",
    "        </div>\n",
    "        <div class=\"col-md-3\">\n",
    "            <img align='center' style=\"border-width:0\" src=\"images/UoM_logo.png\"/>\n",
    "        </div>\n",
    "    </div>\n",
    "</div>\n",
    "\n",
    "<div class=\"container-fluid\">\n",
    "    <div class=\"row\">\n",
    "        <div class=\"col-md-2\" align=\"right\">\n",
    "            <b>Course instructors:&nbsp;&nbsp;</b>\n",
    "        </div>\n",
    "        <div class=\"col-md-9\" align=\"left\">\n",
    "            <a href=\"http://www.ajmarkwick.net/\">Dr. Andrew Markwick</a> - Twitter <a href=\"https://twitter.com/AndrewMarkwick\">@AndrewMarkwick</a><br>\n",
    "            <a href=\"www.oms-lab.org\">Dr. Patrick Parkinson</a>\n",
    "        </div>\n",
    "    </div>\n",
    "</div>"
   ]
  },
  {
   "cell_type": "markdown",
   "metadata": {},
   "source": [
    "## Chapter 11 - Multivariate Analysis\n",
    "\n",
    "### Problem 1 - ROC\n",
    "\n",
    "1. What does a ROC curve plot on its axes?\n",
    " - True Positive Rate vs False Positive Rate\n",
    " - Accuracy vs Precision\n",
    " - Sensitivity vs Time\n",
    " - Error Rate vs Sample Size\n",
    "\n",
    "2. What does a diagonal line (y=x) on a ROC curve represent?\n",
    "- Perfect classification\n",
    "- Random guessing\n",
    "- Maximum error\n",
    "- Minimum error\n",
    "\n",
    "3. Where on the ROC curve would a perfect classifier be located?\n",
    "- Origin (0,0)\n",
    "- Top-left corner (0,1)\n",
    "- Top-right corner (1,1)\n",
    "- Along the diagonal\n",
    "\n",
    "4. What does the Area Under the Curve (AUC) tell us about a classifier?\n",
    "- The classifier's computational speed\n",
    "- The probability of ranking a random positive sample higher than a random negative one\n",
    "- The total number of correct predictions\n",
    "- The false positive rate\n",
    "\n",
    "5. In medical testing applications, why is the ROC curve particularly useful?\n",
    "- It shows the cost of the test\n",
    "- It helps balance sensitivity and specificity\n",
    "- It predicts patient outcomes\n",
    "- It measures test duration\n",
    "\n",
    "### Problem 2 - classifiers\n",
    "\n",
    "You are given a dataset with multiple features and a binary target variable. You need to compare the performance of different classifiers, including k-Nearest Neighbors (k-NN), Support Vector Classifier (SVC), and Gaussian Process Classifier (GPC). Describe the steps you would take to evaluate and compare these classifiers. In your answer, consider metrics such as accuracy, ROC curve, AUC, precision, recall, and F1-score. Explain why each metric is important and how it helps in comparing the classifiers.\n"
   ]
  },
  {
   "cell_type": "markdown",
   "metadata": {},
   "source": [
    "<div class=\"well\" align=\"center\">\n",
    "    <div class=\"container-fluid\">\n",
    "        <div class=\"row\">\n",
    "            <div class=\"col-md-3\" align=\"center\">\n",
    "                <img align=\"center\" alt=\"Creative Commons License\" style=\"border-width:0\" src=\"https://i.creativecommons.org/l/by-nc-sa/4.0/88x31.png\" width=\"60%\">\n",
    "            </div>\n",
    "            <div class=\"col-md-8\">\n",
    "            This work is licensed under a <a href=\"http://creativecommons.org/licenses/by-nc-sa/4.0/\">Creative Commons Attribution-NonCommercial-ShareAlike 4.0 International License</a>).\n",
    "            </div>\n",
    "        </div>\n",
    "    </div>\n",
    "    <br>\n",
    "    <br>\n",
    "    <i>Note: The content of this Jupyter Notebook is provided for educational purposes only.</i>\n",
    "</div>"
   ]
  }
 ],
 "metadata": {
  "kernelspec": {
   "display_name": ".venv",
   "language": "python",
   "name": "python3"
  },
  "language_info": {
   "codemirror_mode": {
    "name": "ipython",
    "version": 3
   },
   "file_extension": ".py",
   "mimetype": "text/x-python",
   "name": "python",
   "nbconvert_exporter": "python",
   "pygments_lexer": "ipython3",
   "version": "3.12.0"
  }
 },
 "nbformat": 4,
 "nbformat_minor": 2
}
