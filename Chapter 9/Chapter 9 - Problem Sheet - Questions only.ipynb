{
 "cells": [
  {
   "cell_type": "markdown",
   "metadata": {},
   "source": [
    "<div class=\"container-fluid\">\n",
    "    <div class=\"row\">\n",
    "        <div class=\"col-md-8\" align=\"center\">\n",
    "            <h1>PHYS 10792: Introduction to Data Science</h1>\n",
    "            <!--<h3>2019-2020 Academic Year</h3><br>-->\n",
    "        </div>\n",
    "        <div class=\"col-md-3\">\n",
    "            <img align='center' style=\"border-width:0\" src=\"images/UoM_logo.png\"/>\n",
    "        </div>\n",
    "    </div>\n",
    "</div>\n",
    "\n",
    "<div class=\"container-fluid\">\n",
    "    <div class=\"row\">\n",
    "        <div class=\"col-md-2\" align=\"right\">\n",
    "            <b>Course instructors:&nbsp;&nbsp;</b>\n",
    "        </div>\n",
    "        <div class=\"col-md-9\" align=\"left\">\n",
    "            <a href=\"http://www.ajmarkwick.net/\">Dr. Andrew Markwick</a> - Twitter <a href=\"https://twitter.com/AndrewMarkwick\">@AndrewMarkwick</a><br>\n",
    "            <a href=\"http://www.oms-lab.org\">Dr. Patrick Parkinson</a> \n",
    "        </div>\n",
    "    </div>\n",
    "</div>"
   ]
  },
  {
   "cell_type": "markdown",
   "metadata": {},
   "source": [
    "## Problem Sheet 9"
   ]
  },
  {
   "cell_type": "markdown",
   "metadata": {},
   "source": [
    "### Problem 1: Probabilities\n",
    "\n",
    "#### Problem 1.1\n",
    "In which of the following situations might we prefer to use Bayesian or Frequentist approaches to model the statistics?\n",
    "\n",
    "- Medical diagnosis incorporating prior patient history\n",
    "- Quality control in manufacturing\n",
    "- Predicting election outcomes based on prior polls\n",
    "- Clinical trials with fixed sample sizes\n",
    "- Real-time fraud detection in financial transactions\n",
    "- Estimating population parameters from survey data\n",
    "- Weather forecasting using historical data\n",
    "- Comparing means of two independent samples\n",
    "- Personalized marketing based on customer behavior\n",
    "- Analyzing the effectiveness of a new drug\n",
    "\n",
    "\n",
    "#### Problem 1.2\n",
    "\n",
    "An experiment to count muons reaching the earth's surface from cosmic rays is conducted by 120 students. The average expected count rate is 1 per cm $^2$ and per minute. The students start their experiment at 15:20 on a Friday and end the count at 10:00 on the following Monday. Their detectors have a survace area of 0.5 cm by 5.0 cm.\n",
    "- What average count and sample standard deviation do you expect?\n",
    "- How many of the students would you expect to have a count of 200 or more above the average?"
   ]
  },
  {
   "cell_type": "markdown",
   "metadata": {},
   "source": [
    "### Problem 2: Confidence belts\n",
    "\n",
    "#### Problem 2.1\n",
    "You want to produce a $90\\%$ upper limit confidence belt for a Poisson distribution. Calculate the lower limits of the confidence intervals, $k_-$, for the following true means:\n",
    "- $\\lambda=2.0$\n",
    "- $\\lambda=2.3$\n",
    "- $\\lambda=2.4$\n",
    "- $\\lambda=7.5$\n",
    "\n",
    "#### Problem 2.2\n",
    "\n",
    "The plot below shows the $80\\%$ central interval belt for a Poisson distribution. Derive the $80\\%$ intervals for the true mean for measurements of\n",
    "- $k=0$\n",
    "- $k=4$\n",
    "- $k=10$\n",
    "\n",
    "What is the largest observed count rate that can be interpreted based on this plot as shown?\n",
    "\n",
    "<img src=\"images/Poisson_belt_80.png\" width=80%>"
   ]
  },
  {
   "cell_type": "markdown",
   "metadata": {},
   "source": [
    "<div class=\"well\" align=\"center\">\n",
    "    <div class=\"container-fluid\">\n",
    "        <div class=\"row\">\n",
    "            <div class=\"col-md-3\" align=\"center\">\n",
    "                <img align=\"center\" alt=\"Creative Commons License\" style=\"border-width:0\" src=\"https://licensebuttons.net/l/by-nc-sa/4.0/88x31.png\" width=\"60%\">\n",
    "            </div>\n",
    "            <div class=\"col-md-8\">\n",
    "            This work is licensed under a <a href=\"http://creativecommons.org/licenses/by-nc-sa/4.0/\">Creative Commons Attribution-NonCommercial-ShareAlike 4.0 International License</a>).\n",
    "            </div>\n",
    "        </div>\n",
    "    </div>\n",
    "    <br>\n",
    "    <br>\n",
    "    <i>Note: The content of this Jupyter Notebook is provided for educational purposes only.</i>\n",
    "</div>"
   ]
  }
 ],
 "metadata": {
  "kernelspec": {
   "display_name": "Python 3 (ipykernel)",
   "language": "python",
   "name": "python3"
  },
  "language_info": {
   "codemirror_mode": {
    "name": "ipython",
    "version": 3
   },
   "file_extension": ".py",
   "mimetype": "text/x-python",
   "name": "python",
   "nbconvert_exporter": "python",
   "pygments_lexer": "ipython3",
   "version": "3.10.11"
  }
 },
 "nbformat": 4,
 "nbformat_minor": 4
}
