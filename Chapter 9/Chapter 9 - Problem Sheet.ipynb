{
 "cells": [
  {
   "cell_type": "markdown",
   "metadata": {},
   "source": [
    "<div class=\"container-fluid\">\n",
    "    <div class=\"row\">\n",
    "        <div class=\"col-md-8\" align=\"center\">\n",
    "            <h1>PHYS 10792: Introduction to Data Science</h1>\n",
    "            <!--<h3>2019-2020 Academic Year</h3><br>-->\n",
    "        </div>\n",
    "        <div class=\"col-md-3\">\n",
    "            <img align='center' style=\"border-width:0\" src=\"images/UoM_logo.png\"/>\n",
    "        </div>\n",
    "    </div>\n",
    "</div>\n",
    "\n",
    "<div class=\"container-fluid\">\n",
    "    <div class=\"row\">\n",
    "        <div class=\"col-md-2\" align=\"right\">\n",
    "            <b>Course instructors:&nbsp;&nbsp;</b>\n",
    "        </div>\n",
    "        <div class=\"col-md-9\" align=\"left\">\n",
    "            <a href=\"http://www.ajmarkwick.net/\">Dr. Andrew Markwick</a> - Twitter <a href=\"https://twitter.com/AndrewMarkwick\">@AndrewMarkwick</a><br>\n",
    "            <a href=\"www.oms-lab.org\">Dr. Patrick Parkinson</a>\n",
    "        </div>\n",
    "    </div>\n",
    "</div>"
   ]
  },
  {
   "cell_type": "markdown",
   "metadata": {},
   "source": [
    "## Problem Sheet 9"
   ]
  },
  {
   "cell_type": "markdown",
   "metadata": {},
   "source": [
    "### Problem 1: Probabilities\n",
    "\n",
    "#### Problem 1.1\n",
    "In which of the following situations might we prefer to use Bayesian or Frequentist approaches to model the statistics?\n",
    "\n",
    "- Medical diagnosis incorporating prior patient history\n",
    "- Quality control in manufacturing\n",
    "- Predicting election outcomes based on prior polls\n",
    "- Clinical trials with fixed sample sizes\n",
    "- Real-time fraud detection in financial transactions\n",
    "- Estimating population parameters from survey data\n",
    "- Weather forecasting using historical data\n",
    "- Comparing means of two independent samples\n",
    "- Personalized marketing based on customer behavior\n",
    "- Analyzing the effectiveness of a new drug\n",
    "\n",
    "\n",
    "#### Problem 1.2\n",
    "\n",
    "An experiment to count muons reaching the earth's surface from cosmic rays is conducted by 120 students. The average expected count rate is 1 per cm $^2$ and per minute. The students start their experiment at 15:20 on a Friday and end the count at 10:00 on the following Monday. Their detectors have a survace area of 0.5 cm by 5.0 cm.\n",
    "- What average count and sample standard deviation do you expect?\n",
    "- How many of the students would you expect to have a count of 200 or more above the average?"
   ]
  },
  {
   "cell_type": "markdown",
   "metadata": {},
   "source": [
    "### Solution to Problem 1\n",
    "\n",
    "#### Solution 1.1\n",
    "\n",
    "| Example | Preferred Approach | Explanation |\n",
    "|---------|--------------------|-------------|\n",
    "| Medical diagnosis incorporating prior patient history | Bayesian | Bayesian methods allow for the integration of prior knowledge (e.g., patient history) with current data to update probabilities. |\n",
    "| Quality control in manufacturing | Frequentist | Frequentist methods are often used for hypothesis testing and confidence intervals in quality control processes. |\n",
    "| Predicting election outcomes based on prior polls | Bayesian | Bayesian approaches can incorporate prior poll results and continuously update predictions as new data comes in. |\n",
    "| Clinical trials with fixed sample sizes | Frequentist | Frequentist methods are commonly used in clinical trials to test hypotheses and determine the efficacy of treatments. |\n",
    "| Real-time fraud detection in financial transactions | Bayesian | Bayesian methods can update probabilities in real-time as new transaction data is received, improving detection accuracy. |\n",
    "| Estimating population parameters from survey data | Frequentist | Frequentist approaches are typically used to estimate population parameters and construct confidence intervals from survey data. |\n",
    "| Weather forecasting using historical data | Bayesian | Bayesian methods can incorporate historical weather data and update forecasts as new information becomes available. |\n",
    "| Comparing means of two independent samples | Frequentist | Frequentist methods are often used for comparing means and performing t-tests on independent samples. |\n",
    "| Personalized marketing based on customer behavior | Bayesian | Bayesian approaches can use prior customer behavior data to update and refine marketing strategies. |\n",
    "| Analyzing the effectiveness of a new drug | Frequentist | Frequentist methods are standard in drug efficacy studies to test hypotheses and determine statistical significance. |\n",
    "\n",
    "\n",
    "#### Solution 1.2\n",
    "\n",
    "- 4000 minutes and 2.5 cm$^2$ mean the expected count is 10,000. The standard deviation is therefore $\\sigma=\\sqrt{N}=100$.\n",
    "- A count of 200 above the mean corresponds to 2 standard deviations. We would expect $5\\%$ to lie outside two standard deviations either below or above the mean, so $2.5\\%$ should have a count of 200 or more above the average. This corresponds to 3 students."
   ]
  },
  {
   "cell_type": "markdown",
   "metadata": {},
   "source": [
    "### Problem 2: Confidence belts\n",
    "\n",
    "#### Problem 2.1\n",
    "You want to produce a $90\\%$ upper limit confidence belt for a Poisson distribution. Calculate the lower limits of the confidence intervals, $k_-$, for the following true means:\n",
    "- $\\lambda=2.0$\n",
    "- $\\lambda=2.3$\n",
    "- $\\lambda=2.4$\n",
    "- $\\lambda=7.5$\n",
    "\n",
    "#### Problem 2.2\n",
    "\n",
    "The plot below shows the $80\\%$ central interval belt for a Poisson distribution. Derive the $80\\%$ intervals for the true mean for measurements of\n",
    "- $k=0$\n",
    "- $k=4$\n",
    "- $k=10$\n",
    "\n",
    "What is the largest observed count rate that can be interpreted based on this plot as shown?\n",
    "\n",
    "<img src=\"images/Poisson_belt_80.png\" width=80%>"
   ]
  },
  {
   "cell_type": "markdown",
   "metadata": {},
   "source": [
    "### Solution to Problem 2\n",
    "\n",
    "#### Solution to 2.1\n",
    "We need to find the largest $k$ for which $\\sum_{i=0}^k e^{-\\lambda}\\lambda^k/k!<1-C$ and the confidence interval will start at the subsequent count, therefore $k_-=k+1$. The list below are the probabilities for the elements starting with $k=0$:\n",
    "- $\\lambda=2.0$: 0.135: $k_-=0$\n",
    "- $\\lambda=2.3$: 0.1003: $k_-=0$\n",
    "- $\\lambda=2.4$: 0.091, 0.218: $k_-=1$\n",
    "- $\\lambda=7.5$: 0.0006, 0.0041, 0.0156, 0.0389, 0.0729: $k_-=4$\n",
    "\n",
    "#### Solution to 2.2\n",
    "The intervals for the true values of $\\lambda$ are read off as the outward-facing corners of the confidence belts where this is intersected by a vertical line through the measured count. They can only be read off approximately by eye, so don't worry if you obtained values that are one or two tenth off.\n",
    "- $k=0$: $[0.0,2.3]$\n",
    "- $k=4$: $[1.8,8.0]$\n",
    "- $k=10$: $[6.3,15.4]$\n",
    "\n",
    "The largest count rate that can be interpreted is $k=13$ as the upper end of the interval for $k=14$ is not visible on the plot.\n"
   ]
  },
  {
   "cell_type": "markdown",
   "metadata": {},
   "source": [
    "<div class=\"well\" align=\"center\">\n",
    "    <div class=\"container-fluid\">\n",
    "        <div class=\"row\">\n",
    "            <div class=\"col-md-3\" align=\"center\">\n",
    "                <img align=\"center\" alt=\"Creative Commons License\" style=\"border-width:0\" src=\"https://licensebuttons.net/l/by-nc-sa/4.0/88x31.png\" width=\"60%\">\n",
    "            </div>\n",
    "            <div class=\"col-md-8\">\n",
    "            This work is licensed under a <a href=\"http://creativecommons.org/licenses/by-nc-sa/4.0/\">Creative Commons Attribution-NonCommercial-ShareAlike 4.0 International License</a>).\n",
    "            </div>\n",
    "        </div>\n",
    "    </div>\n",
    "    <br>\n",
    "    <br>\n",
    "    <i>Note: The content of this Jupyter Notebook is provided for educational purposes only.</i>\n",
    "</div>"
   ]
  }
 ],
 "metadata": {
  "kernelspec": {
   "display_name": "Python 3",
   "language": "python",
   "name": "python3"
  },
  "language_info": {
   "codemirror_mode": {
    "name": "ipython",
    "version": 3
   },
   "file_extension": ".py",
   "mimetype": "text/x-python",
   "name": "python",
   "nbconvert_exporter": "python",
   "pygments_lexer": "ipython3",
   "version": "3.12.0"
  }
 },
 "nbformat": 4,
 "nbformat_minor": 4
}
