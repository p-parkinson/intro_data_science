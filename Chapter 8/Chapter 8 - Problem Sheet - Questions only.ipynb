{
 "cells": [
  {
   "cell_type": "code",
   "execution_count": 1,
   "metadata": {
    "scrolled": true
   },
   "outputs": [],
   "source": [
    "## Import required Python modules\n",
    "%matplotlib inline\n",
    "import matplotlib.pyplot as plt\n",
    "#from IPython.core.display import display\n",
    "from IPython.display import display, HTML\n",
    "\n",
    "## Customising the font size of figures\n",
    "plt.rcParams.update({'font.size': 14})"
   ]
  },
  {
   "cell_type": "markdown",
   "metadata": {},
   "source": [
    "<div class=\"container-fluid\">\n",
    "    <div class=\"row\">\n",
    "        <div class=\"col-md-8\" align=\"center\">\n",
    "            <h1>PHYS 10792: Introduction to Data Science</h1>\n",
    "            <!--<h3>2019-2020 Academic Year</h3><br>-->\n",
    "        </div>\n",
    "        <div class=\"col-md-3\">\n",
    "            <img align='center' style=\"border-width:0\" src=\"images/UoM_logo.png\"/>\n",
    "        </div>\n",
    "    </div>\n",
    "</div>\n",
    "\n",
    "<div class=\"container-fluid\">\n",
    "    <div class=\"row\">\n",
    "        <div class=\"col-md-2\" align=\"right\">\n",
    "            <b>Course instructors:&nbsp;&nbsp;</b>\n",
    "        </div>\n",
    "        <div class=\"col-md-9\" align=\"left\">\n",
    "            <a href=\"http://www.ajmarkwick.net/\">Dr. Andrew Markwick</a> - Twitter <a href=\"https://twitter.com/AndrewMarkwick\">@AndrewMarkwick</a><br>\n",
    "            <a href=\"www.oms-lab.org\">Dr. Patrick Parkinson</a>\n",
    "        </div>\n",
    "    </div>\n",
    "</div>"
   ]
  },
  {
   "cell_type": "markdown",
   "metadata": {},
   "source": [
    "# Chapter 8 - Problem Sheet"
   ]
  },
  {
   "cell_type": "markdown",
   "metadata": {},
   "source": [
    "### Problem 1: Type I and II errors\n",
    "\n",
    "Identify which two statements are correct.\n",
    "\n",
    "- Type I error is the rate of acceptance of the hypothesis in a hypothesis test.\n",
    "- Type I error is the rate of rejection of the hypothesis in a hypothesis test.\n",
    "- Type I error is the rate of acceptance of the alternative hypothesis in a hypothesis test.\n",
    "- Type I error is the rate of rejection of the alternative hypothesis in a hypothesis test.\n",
    "- Type II error is the rate of acceptance of the hypothesis in a hypothesis test.\n",
    "- Type II error is the rate of rejection of the hypothesis in a hypothesis test.\n",
    "- Type II error is the rate of acceptance of the alternative hypothesis in a hypothesis test.\n",
    "- Type II error is the rate of rejection of the alternative hypothesis in a hypothesis test.\n"
   ]
  },
  {
   "cell_type": "markdown",
   "metadata": {},
   "source": [
    "### Problem 2: The choice of significance and power\n",
    "\n",
    "#### Problem 2.1\n",
    "\n",
    "Describe in your words what are the relevant things to consider when choosing the acceptance point of a hypothesis test, which defines significance and power.\n",
    "\n",
    "#### Problem 2.2\n",
    "\n",
    "In a medical diagnostic test that aims to identify a disease the quantities discussed are often: \n",
    "- the sensitivity, i.e. the rate at which true positives are not overlooked, and\n",
    "- the specificity, i.e. the rate of candidates without a disease that are correctly identified as healthy.\n",
    "\n",
    "Relate these to Type I and Type II errors and to significance and power.\n",
    "\n",
    "#### Problem 2.3\n",
    "\n",
    "A medical diagnostic test has a rate of Type I errors of $20\\%$ and a rate of Type II errors of $0.01\\%$. The test is carried out on 100,000 candidates. It is expected that 1 in 1,000 people carry the disease. Based on these numbers calculate\n",
    "- the expected number of infected candidates,\n",
    "- the expected number of candidates returning a postive test,\n",
    "- the number of infected candidates not identified as such, and\n",
    "- the fraction of postive tests that were returned by healthy candidates.\n",
    "\n",
    "Based on the last number, discuss the usefulness of this test and what could be done to address this."
   ]
  },
  {
   "cell_type": "markdown",
   "metadata": {
    "slideshow": {
     "slide_type": "slide"
    }
   },
   "source": [
    "### Problem 3: Hypothesis tests with Poisson and Gauss\n",
    "\n",
    "The last lecture video discussed an example in which a Poisson distribution was approximated by a Gaussian distribution. This problem aims to illustrate this further. In a counting experiment, assume that the hypothesis is that the expected count rate is 30. Make a table for counts 0 to 50 with the following columns (if you're not using a computer and calculate the numbers one-by-one, you may start at a count of 15; note also that one of the parts of the Poisson probability formula does not depend on the count):\n",
    "- The count (a running number from 0 to 50)\n",
    "- The Poisson probability for this count\n",
    "- The cumulative Poisson probability for counts from 0 to this value\n",
    "- The signed number of standard deviations corresponding to the deviation of this count from the mean when approximating the Poisson distribution by a Gaussian normal distribution.\n",
    "- The fractional integral of the Gaussian normal distribution up to the number of standard deviations calculated in the previous column\n",
    "- The ratio of the cumulative sum of Poisson probabilities to the fraction integral of the normal distribution, i.e. of the values in the third and fifth column."
   ]
  },
  {
   "cell_type": "markdown",
   "metadata": {},
   "source": [
    "<div class=\"well\" align=\"center\">\n",
    "    <div class=\"container-fluid\">\n",
    "        <div class=\"row\">\n",
    "            <div class=\"col-md-3\" align=\"center\">\n",
    "                <img align=\"center\" alt=\"Creative Commons License\" style=\"border-width:0\" src=\"https://i.creativecommons.org/l/by-nc-sa/4.0/88x31.png\" width=\"60%\">\n",
    "            </div>\n",
    "            <div class=\"col-md-8\">\n",
    "            This work is licensed under a <a href=\"http://creativecommons.org/licenses/by-nc-sa/4.0/\">Creative Commons Attribution-NonCommercial-ShareAlike 4.0 International License</a>).\n",
    "            </div>\n",
    "        </div>\n",
    "    </div>\n",
    "    <br>\n",
    "    <br>\n",
    "    <i>Note: The content of this Jupyter Notebook is provided for educational purposes only.</i>\n",
    "</div>"
   ]
  }
 ],
 "metadata": {
  "kernelspec": {
   "display_name": "Python 3",
   "language": "python",
   "name": "python3"
  },
  "language_info": {
   "codemirror_mode": {
    "name": "ipython",
    "version": 3
   },
   "file_extension": ".py",
   "mimetype": "text/x-python",
   "name": "python",
   "nbconvert_exporter": "python",
   "pygments_lexer": "ipython3",
   "version": "3.12.0"
  }
 },
 "nbformat": 4,
 "nbformat_minor": 4
}
