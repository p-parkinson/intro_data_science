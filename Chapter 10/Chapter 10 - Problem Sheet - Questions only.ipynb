{
 "cells": [
  {
   "cell_type": "code",
   "execution_count": 1,
   "metadata": {},
   "outputs": [
    {
     "data": {
      "text/html": [
       "<style>.container { width:95% !important; }</style>"
      ],
      "text/plain": [
       "<IPython.core.display.HTML object>"
      ]
     },
     "metadata": {},
     "output_type": "display_data"
    },
    {
     "data": {
      "text/html": [
       "custom.css"
      ],
      "text/plain": [
       "<IPython.core.display.HTML object>"
      ]
     },
     "execution_count": 1,
     "metadata": {},
     "output_type": "execute_result"
    }
   ],
   "source": [
    "## Import required Python modules\n",
    "%matplotlib inline\n",
    "import matplotlib.pyplot as plt\n",
    "import scipy.stats\n",
    "#from IPython.core.display import display\n",
    "from IPython.display import display, HTML\n",
    "\n",
    "\n",
    "## Customising the font size of figures\n",
    "plt.rcParams.update({'font.size': 14})"
   ]
  },
  {
   "cell_type": "markdown",
   "metadata": {},
   "source": [
    "<div class=\"container-fluid\">\n",
    "    <div class=\"row\">\n",
    "        <div class=\"col-md-8\" align=\"center\">\n",
    "            <h1>PHYS 10792: Introduction to Data Science</h1>\n",
    "            <!--<h3>2019-2020 Academic Year</h3><br>-->\n",
    "        </div>\n",
    "        <div class=\"col-md-3\">\n",
    "            <img align='center' style=\"border-width:0\" src=\"images/UoM_logo.png\"/>\n",
    "        </div>\n",
    "    </div>\n",
    "</div>\n",
    "\n",
    "<div class=\"container-fluid\">\n",
    "    <div class=\"row\">\n",
    "        <div class=\"col-md-2\" align=\"right\">\n",
    "            <b>Course instructors:&nbsp;&nbsp;</b>\n",
    "        </div>\n",
    "        <div class=\"col-md-9\" align=\"left\">\n",
    "            <a href=\"http://www.ajmarkwick.net/\">Dr. Andrew Markwick</a> - Twitter <a href=\"https://twitter.com/AndrewMarkwick\">@AndrewMarkwick</a><br>\n",
    "            <a href=\"www.oms-lab.org\">Dr. Patrick Parkinson</a>\n",
    "        </div>\n",
    "    </div>\n",
    "</div>"
   ]
  },
  {
   "cell_type": "markdown",
   "metadata": {},
   "source": [
    "# Chapter 10 - Problem Sheet"
   ]
  },
  {
   "cell_type": "markdown",
   "metadata": {
    "slideshow": {
     "slide_type": "slide"
    }
   },
   "source": [
    "### Problem 1\n",
    "\n",
    "#### Problem 1.1\n",
    "\n",
    "The construction of Feldman-Cousins intervals involves the calculation of $\\mu_{best}$, i.e. the value of the true variable that maximises the probability for a given value of the measured variable. For a Poisson distribution, this is the value of the mean $\\lambda$ that maximises $P(k;\\lambda)$ for a given $k$.\n",
    "\n",
    "Show that for a given $k$ the Poisson probability $P(k;\\lambda)$ is maximal with $\\lambda=k$.\n",
    "\n",
    "#### Problem 1.2\n",
    "\n",
    "Another way to come to the same conclusion and a generally useful piece of information about Poisson probabilities is the mode of the Poisson probability mass function.\n",
    "\n",
    "By considering the probabilities of elements around the mode show:\n",
    "- that for integer values of $\\lambda$ the mode is both $k=\\lambda$ and $k=\\lambda-1$; and\n",
    "- that for non-integer values of $\\lambda=n+\\delta$, with integer $n$ and $0<\\delta<1$, the mode is $k=n$."
   ]
  },
  {
   "cell_type": "markdown",
   "metadata": {},
   "source": [
    "<div class=\"well\" align=\"center\">\n",
    "    <div class=\"container-fluid\">\n",
    "        <div class=\"row\">\n",
    "            <div class=\"col-md-3\" align=\"center\">\n",
    "                <img align=\"center\" alt=\"Creative Commons License\" style=\"border-width:0\" src=\"https://i.creativecommons.org/l/by-nc-sa/4.0/88x31.png\" width=\"60%\">\n",
    "            </div>\n",
    "            <div class=\"col-md-8\">\n",
    "            This work is licensed under a <a href=\"http://creativecommons.org/licenses/by-nc-sa/4.0/\">Creative Commons Attribution-NonCommercial-ShareAlike 4.0 International License</a>).\n",
    "            </div>\n",
    "        </div>\n",
    "    </div>\n",
    "    <br>\n",
    "    <br>\n",
    "    <i>Note: The content of this Jupyter Notebook is provided for educational purposes only.</i>\n",
    "</div>"
   ]
  }
 ],
 "metadata": {
  "kernelspec": {
   "display_name": ".venv",
   "language": "python",
   "name": "python3"
  },
  "language_info": {
   "codemirror_mode": {
    "name": "ipython",
    "version": 3
   },
   "file_extension": ".py",
   "mimetype": "text/x-python",
   "name": "python",
   "nbconvert_exporter": "python",
   "pygments_lexer": "ipython3",
   "version": "3.12.0"
  }
 },
 "nbformat": 4,
 "nbformat_minor": 4
}
